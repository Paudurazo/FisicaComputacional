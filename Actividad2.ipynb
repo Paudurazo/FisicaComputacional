{
  "nbformat": 4,
  "nbformat_minor": 0,
  "metadata": {
    "colab": {
      "name": "Actividad2.ipynb",
      "provenance": [],
      "collapsed_sections": [
        "F50FhAIMv4wX",
        "zg-qpim3yHsf",
        "Sly5B8eYG03t",
        "lGqyGzGJ3vlw",
        "oIYvecfn5vCi",
        "4OfrwkBvBrOg",
        "N8Q1GTYnj9ue",
        "-PMQyn90rcSC"
      ],
      "toc_visible": true
    },
    "kernelspec": {
      "name": "python3",
      "display_name": "Python 3"
    }
  },
  "cells": [
    {
      "cell_type": "markdown",
      "metadata": {
        "id": "tka5PzVvvwYe"
      },
      "source": [
        "**Primer Programa**\n",
        "\n",
        "\n",
        "---\n",
        "\n"
      ]
    },
    {
      "cell_type": "markdown",
      "metadata": {
        "id": "F50FhAIMv4wX"
      },
      "source": [
        "# Área de un Rectángulo\n"
      ]
    },
    {
      "cell_type": "markdown",
      "metadata": {
        "id": "lLVsZ_uEwl6F"
      },
      "source": [
        "Fórmula para calcular el área de un rectángulo:\n",
        "\n",
        "$$A= lw $$\n",
        "Donde $$l$$ es el largo de la figura y $$w$$ es el ancho de la misma."
      ]
    },
    {
      "cell_type": "code",
      "metadata": {
        "id": "UrSsV3sqwKhK"
      },
      "source": [
        "# Se define una función de 2 variables para calcular el área.  \n",
        "def area(x, y):\n",
        "    return x*y\n",
        "\n",
        "print(\"Proporciona el largo y altura del rectángulo: \", end=\"\")\n",
        "l = float(input())\n",
        "w = float(input())\n",
        "a = area(l, w)\n",
        "# Imprime el valor del área en formato libre.\n",
        "print(\"\\nArea = \", a)\n",
        "# Imprime el valor del área con 2 decimales. \n",
        "print(\"\\nArea = {:.2f}\".format(a))"
      ],
      "execution_count": null,
      "outputs": []
    },
    {
      "cell_type": "markdown",
      "metadata": {
        "id": "zg-qpim3yHsf"
      },
      "source": [
        "# Área de un círculo"
      ]
    },
    {
      "cell_type": "markdown",
      "metadata": {
        "id": "OSmmG4Bl3qcI"
      },
      "source": [
        "Fórmula para calcular el área de un círculo:\n",
        "$$A=\\pi r^2$$\n",
        "Donde $$\\pi$$ es la constante $$3.14159$$\n",
        "y $$r$$ es el radio del círculo.\n"
      ]
    },
    {
      "cell_type": "code",
      "metadata": {
        "id": "KK2OQvukDXfs"
      },
      "source": [
        "PI = 3.14\n",
        "r = float(input('Introduce el radio del círculo :'))\n",
        "area = PI * r * r\n",
        "\n",
        "print(\"El área del círculo es : %.2f\" %area)\n",
        "\n"
      ],
      "execution_count": null,
      "outputs": []
    },
    {
      "cell_type": "markdown",
      "metadata": {
        "id": "Sly5B8eYG03t"
      },
      "source": [
        "# Área de una elipse\n"
      ]
    },
    {
      "cell_type": "markdown",
      "metadata": {
        "id": "RAOML1tTHIrM"
      },
      "source": [
        "Fórmula para calcular el área de una elipse:\n",
        "$$\\pi ab$$\n",
        "Donde $$\\pi$$ es la constante $$3.14159$$ con\n",
        " $$a$$ siendo el semieje mayor y $$b$$ el semieje menor."
      ]
    },
    {
      "cell_type": "code",
      "metadata": {
        "id": "DDvIXt2LIO-Q"
      },
      "source": [
        "\n",
        "a = float(input(\"Introduce el largo del semieje mayor: \"))\n",
        "\n",
        "b = float(input(\"Introduce el largo del semieje menor: \"))\n",
        "\n",
        "area = 3.14 * a* b\n",
        "\n",
        "print(\"El área de la elipse es = \", area)"
      ],
      "execution_count": null,
      "outputs": []
    },
    {
      "cell_type": "markdown",
      "metadata": {
        "id": "lGqyGzGJ3vlw"
      },
      "source": [
        "# Área y volumen de una esfera"
      ]
    },
    {
      "cell_type": "markdown",
      "metadata": {
        "id": "RSDgwpYS34N9"
      },
      "source": [
        "El área de una esfera se calcula como: $$4\\pi r^2$$\n",
        "El volumen de una esfera se calcula como:\n",
        "$$4/3 \\pi r^3$$\n",
        "\n",
        "Donde $$\\pi$$ es la constante $$3.1415$$\n",
        "y $$r$$ es el radio determinado de la esfera."
      ]
    },
    {
      "cell_type": "code",
      "metadata": {
        "colab": {
          "base_uri": "https://localhost:8080/"
        },
        "id": "KXuDSZmN438O",
        "outputId": "f159e09c-a739-4a24-a170-7e4504e198cc"
      },
      "source": [
        "pi=3.14\n",
        "radio = float(input('Inserte el radio de la esfera: '))\n",
        "area = 4 * pi * radio **2\n",
        "volumen = (4/3) * (pi * radio ** 3)\n",
        "print(\"\\n Área: %.2f\" %area)\n",
        "print(\"Volumen : %.2f\" %volumen)"
      ],
      "execution_count": null,
      "outputs": [
        {
          "output_type": "stream",
          "text": [
            "Inserte el radio de la esfera: 4\n",
            "\n",
            " Área: 200.96\n",
            "Volumen : 267.95\n"
          ],
          "name": "stdout"
        }
      ]
    },
    {
      "cell_type": "markdown",
      "metadata": {
        "id": "oIYvecfn5vCi"
      },
      "source": [
        "# Área y un volumen de un cilindro"
      ]
    },
    {
      "cell_type": "markdown",
      "metadata": {
        "id": "8sc3fam09m3_"
      },
      "source": [
        "El área de un cilindro se calcula como: \n",
        "$$2\\pi r^2 + 2\\pi rh$$\n",
        "El volumen de un cilindro se calcula como:\n",
        "$$\\pi r^2h$$\n",
        "\n",
        "Donde $$\\pi$$ es la constante $$3.141$$ \n",
        "\n",
        "$$r$$ es el radio de la base circular del cilindro y $$h$$ es la altura del dicho cilindro."
      ]
    },
    {
      "cell_type": "code",
      "metadata": {
        "colab": {
          "base_uri": "https://localhost:8080/"
        },
        "id": "DIiIxAb--xbx",
        "outputId": "0fc286a7-afd3-45da-bf30-309d67c1aba2"
      },
      "source": [
        "\n",
        "Pi = 3.14\n",
        "radio = float(input('Introduce el radio del cilindro: '))\n",
        "altura = float(input('Introduce la altura del cilindro: '))\n",
        "\n",
        "area = 2 * Pi * radio * (radio + altura)\n",
        "Volumen = Pi * radio * radio * altura\n",
        "\n",
        "print(\"\\n El área superficial del cilindro es = %.2f\" %area)\n",
        "print(\" EL volumen del cilindro es = %.2f\" %Volumen)"
      ],
      "execution_count": null,
      "outputs": [
        {
          "output_type": "stream",
          "text": [
            "Introduce el radio del cilindro: 4\n",
            "Introduce la altura del cilindro: 3\n",
            "\n",
            " El área superficial del cilindro es = 175.84\n",
            " EL volumen del cilindro es = 150.72\n"
          ],
          "name": "stdout"
        }
      ]
    },
    {
      "cell_type": "markdown",
      "metadata": {
        "id": "4OfrwkBvBrOg"
      },
      "source": [
        "# Programa para resolver las raíces de una ecuación cuadrática"
      ]
    },
    {
      "cell_type": "markdown",
      "metadata": {
        "id": "Wmp1cdxxqUeC"
      },
      "source": [
        "Este programa tiene la finalidad de calcular dos raíces cuadráticas (una positiva y otra negativa) con tres variables: $$a$$ $$b$$ $$c$$ definidas.\n",
        "\n",
        "$$\\text{La Fórmula Cuadrática es }x = \\frac {-b \\pm \\sqrt {b^2 - 4ac}}{2a}$$"
      ]
    },
    {
      "cell_type": "code",
      "metadata": {
        "id": "pt7MwgMKB2pF"
      },
      "source": [
        "from math import sqrt\n",
        "A = int(input(\"Ingrese el coeficiente de la variable cuadrática\\n\"))\n",
        "B = int(input(\"Ingrese el coeficiente de la variable lineal\\n\"))\n",
        "C = int(input(\"Ingrese el término independiente\\n\"))\n",
        "x1= 0\n",
        "x2= 0\n",
        "if ((B**2)-4*A*C) < 0:\n",
        "  print(\"La solución de la ecuación es con números complejos\")\n",
        "else:\n",
        "  x1 = (-B+sqrt(B**2-(4*A*C)))/(2*A)\n",
        "  x2 = (-B-sqrt(B**2-(4*A*C)))/(2*A)\n",
        "  print(\"Las soluciones de la ecuación son:\")\n",
        "  print(x1)\n",
        "  print(x2)"
      ],
      "execution_count": null,
      "outputs": []
    },
    {
      "cell_type": "markdown",
      "metadata": {
        "id": "N8Q1GTYnj9ue"
      },
      "source": [
        "# Método de Herón "
      ]
    },
    {
      "cell_type": "markdown",
      "metadata": {
        "id": "PS_sbGU-k3RC"
      },
      "source": [
        "Los métodos para calcular raíces cuadradas son algoritmos de análisis numérico para encontrar la raíz cuadrada principal, o no negativa, de un número real. Aritméticamente, significa dado S, un procedimiento para encontrar un número que, cuando se multiplica por sí mismo, produce S; algebraicamente, significa un procedimiento para encontrar la raíz no negativa de la ecuación $$x^2 - S = 0$$\n"
      ]
    },
    {
      "cell_type": "markdown",
      "metadata": {
        "id": "R8saIn1ClvYF"
      },
      "source": [
        "Así es como funciona. Suponga que le dan cualquier número positivo S. Para encontrar la raíz cuadrada de S, haga lo siguiente:\n",
        " \n",
        "1.   **Haz una suposición inicial.** \n",
        "\n",
        "Adivina cualquier número positivo $$x_0$$\n",
        "2.   **Mejora la conjetura.** \n",
        "\n",
        "Aplica la fórmula: $$x_1 = (x_0 + S / x_0) / 2$$\n",
        "El número $$x_1$$ es una mejor aproximación a $$sqrt(S)$$\n",
        "3.   **Iterar hasta la convergencia.** \n",
        "\n",
        "Aplicar la fórmula $$X_(n+1) = (x_n + S / x_n) / 2$$ \n",
        "hasta que el proceso converja. La convergencia se logra cuando los dígitos de $$X_(n + 1)$$ y $$x_n$$ concuerdan con tantos lugares decimales como desee.\n",
        "\n",
        "\n",
        "\n",
        "\n",
        "\n",
        "\n",
        "\n"
      ]
    },
    {
      "cell_type": "code",
      "metadata": {
        "colab": {
          "base_uri": "https://localhost:8080/"
        },
        "id": "mwOimhQwpOkc",
        "outputId": "3f37d822-7427-49c7-8981-65c82592c4cc"
      },
      "source": [
        "import numpy as np\n",
        "print(\"Escribe el número al cual le quieres calcular la raíz cuadrada: \", end=\"\")\n",
        "numero = float(input())\n",
        "#1-Elegir un número arbitrario lo más cercano al resultado posible\n",
        "print(\"Escribe un número arbitrario positivo que creas que se acerca a la raíz cuadrada de tu número anterior: \", end=\"\")\n",
        "a = float(input())\n",
        "#2-Dividir el número por el número aproximado\n",
        "b = numero/a\n",
        "#3-Obtener la media entre los dos números\n",
        "a=(a+b)/2\n",
        "#4-Si el valor tiene un error mayor a el esperado repetir pasos 2 y 3\n",
        "while abs(numero- (a*a)) > 0.01:\n",
        "\tprint(a)\n",
        "\t#Repetir pasos anteriores\n",
        "\tb=numero/a\n",
        "\ta=(a+b)/2\n",
        "print(a)\n",
        "r = np.sqrt(numero)\n",
        "print(r)\n",
        "e = abs((r-a)/r)\n",
        "print(e)"
      ],
      "execution_count": null,
      "outputs": [
        {
          "output_type": "stream",
          "text": [
            "Escribe el número al cual le quieres calcular la raíz cuadrada: 25\n",
            "Escribe un número arbitrario positivo que creas que se acerca a la raíz cuadrada de tu número anterior: 4\n",
            "5.125\n",
            "5.001524390243903\n",
            "5.000000232305737\n",
            "5.0\n",
            "4.6461147462650844e-08\n"
          ],
          "name": "stdout"
        }
      ]
    },
    {
      "cell_type": "markdown",
      "metadata": {
        "id": "-PMQyn90rcSC"
      },
      "source": [
        "# Serie de Taylor"
      ]
    },
    {
      "cell_type": "markdown",
      "metadata": {
        "id": "CZdBIv-Mrpgy"
      },
      "source": [
        "$$f_{(x)}=f_{(x_0)}+f'_{(x_0)}(x-x_0) +f''_{(x_0)}\\dfrac {(x-x_0)^2}{2!}+\\ldots+f^{(n)}_{(x_0)}\\dfrac {(x-x_0)^n}{n!}$$\n",
        "\n",
        "Reproducir la figura que muestra la aproximación de la función: $$ln(1+x)$$ alrededor de $$x=0$$"
      ]
    },
    {
      "cell_type": "code",
      "metadata": {
        "colab": {
          "base_uri": "https://localhost:8080/",
          "height": 329
        },
        "id": "eCsNCK3KsW10",
        "outputId": "094a3d45-3839-45c4-f33a-051194bc32a5"
      },
      "source": [
        "import numpy as np\n",
        "import matplotlib.pyplot as plt\n",
        "#Gráfica de funciones\n",
        "#Definición de variables y funciones\n",
        "\n",
        "x = np.linspace(-1.5,1.5,100)  # arrego de 100 puntos entre -1 y 1\n",
        "\n",
        "y = np.log(x+1)       \n",
        "\n",
        "y1 = x\n",
        "\n",
        "y2 = x**2/2\n",
        "\n",
        "y3 = x**3/3\n",
        "\n",
        "y4 = x**4/4\n",
        "\n",
        "y5 = x**5/5\n",
        "\n",
        "y6 = x**6/6\n",
        "\n",
        "y7 = x**7/7\n",
        "\n",
        "y8 = x**8/8\n",
        "\n",
        "y9 = x**9/9\n",
        "\n",
        "y10 = x**10/10\n",
        "\n",
        "y11 = x**11/11\n",
        "\n",
        "y12 = x**12/12\n",
        "\n",
        "y13 = x**13/13\n",
        "\n",
        "y14 = x**14/14\n",
        "\n",
        "y15 = x**15/15\n",
        "\n",
        "y16 = x**16/16\n",
        "\n",
        "sT4 = y1 - y2 + y3 - y4 \n",
        "\n",
        "sT7 = y1 - y2 + y3 - y4 + y5 - y6 + y7\n",
        "\n",
        "sT11 = y1 - y2 + y3 - y4 + y5 - y6 + y7 - y8 + y9 - y10 + y11\n",
        "\n",
        "sT16 = y1 - y2 + y3 - y4 + y5 - y6 + y7 - y8 + y9 - y10 + y11 - y12 + y13 - y14 + y15 - y16\n",
        "\n",
        "#Gráficas\n",
        "\n",
        "plt.subplot(111)\n",
        "\n",
        "plt.xlabel(\"Eje X\")\n",
        "\n",
        "plt.ylabel(\"Eje Y\")\n",
        "\n",
        "plt.title(\"Función ln(1+x)\")\n",
        "\n",
        "#Graficar varias funciones\n",
        "\n",
        "plt.plot(x,y, label=\"ln(1+x)\")\n",
        "\n",
        "plt.plot(x,y1, label='x')\n",
        "\n",
        "plt.plot(x,sT4, label='Serie Taylor de Orden 4')\n",
        "\n",
        "plt.plot(x,sT7, label='Serie Taylor de Orden 7')\n",
        "\n",
        "plt.plot(x,sT11, label='Serie Taylor de Orden 11')\n",
        "\n",
        "plt.plot(x,sT16, label='Serie Taylor de Orden 16')\n",
        "\n",
        "#Agregar una malla\n",
        "\n",
        "plt.grid(True)\n",
        "\n",
        "#Fijar los límites en el eje Y.\n",
        "\n",
        "plt.ylim(-2, 1.5)\n",
        "\n",
        "#Etiquetas de las funciones\n",
        "\n",
        "plt.legend(bbox_to_anchor=(1,1), loc=\"upper left\")\n",
        "\n",
        "plt.show()\n",
        "\n",
        "#plt.savefig('plot.png')  #Guardar la imagen de la gráfica\n",
        "\n"
      ],
      "execution_count": 2,
      "outputs": [
        {
          "output_type": "stream",
          "text": [
            "/usr/local/lib/python3.6/dist-packages/ipykernel_launcher.py:8: RuntimeWarning: invalid value encountered in log\n",
            "  \n"
          ],
          "name": "stderr"
        },
        {
          "output_type": "display_data",
          "data": {
            "image/png": "[encoded data removed]",
            "text/plain": [
              "<Figure size 432x288 with 1 Axes>"
            ]
          },
          "metadata": {
            "tags": [],
            "needs_background": "light"
          }
        }
      ]
    }
  ]
}